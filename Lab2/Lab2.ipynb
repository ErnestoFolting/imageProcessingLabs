{
 "cells": [
  {
   "cell_type": "markdown",
   "metadata": {},
   "source": [
    "Використовуючи будь-яку фотографію з декількома людьми, виявити на ньому\n",
    "обличчя, очi, усмiшку. Порахувати кiлькiсть осiб на фото"
   ]
  },
  {
   "cell_type": "code",
   "execution_count": 39,
   "metadata": {},
   "outputs": [],
   "source": [
    "import cv2\n",
    "def showImg(imgName, img):\n",
    "    cv2.imshow(imgName, img)\n",
    "    cv2.waitKey()\n",
    "    cv2.destroyAllWindows()"
   ]
  },
  {
   "cell_type": "code",
   "execution_count": 40,
   "metadata": {},
   "outputs": [
    {
     "name": "stdout",
     "output_type": "stream",
     "text": [
      "Found 1 faces!\n"
     ]
    }
   ],
   "source": [
    "faceCascade = cv2.CascadeClassifier(cv2.data.haarcascades + 'haarcascade_frontalface_default.xml')\n",
    "\n",
    "img = cv2.imread('./Symonenko.png')\n",
    "faceAreas = faceCascade.detectMultiScale(img, scaleFactor=1.1 , minNeighbors=5)\n",
    "\n",
    "print(f\"Found {len(faceAreas)} faces!\")\n",
    "for (x,y,w,h) in faceAreas:\n",
    "    cv2.rectangle(img, (x,y), (x+w,y+h), (0,0,255),2)\n",
    "\n",
    "showImg('Check',img)"
   ]
  },
  {
   "cell_type": "code",
   "execution_count": 41,
   "metadata": {},
   "outputs": [
    {
     "name": "stdout",
     "output_type": "stream",
     "text": [
      "Found 21 faces!\n"
     ]
    }
   ],
   "source": [
    "faceCascade = cv2.CascadeClassifier(cv2.data.haarcascades + 'haarcascade_frontalface_default.xml')\n",
    "smileCascade = cv2.CascadeClassifier(cv2.data.haarcascades + 'haarcascade_smile.xml')\n",
    "eyeCascade = cv2.CascadeClassifier(cv2.data.haarcascades + 'haarcascade_eye.xml')\n",
    "\n",
    "img = cv2.imread('./people faces.jpg')\n",
    "\n",
    "grayImg = cv2.cvtColor(img,cv2.COLOR_BGR2GRAY)\n",
    "\n",
    "faceAreas = faceAreas = faceCascade.detectMultiScale(grayImg, scaleFactor=1.1 , minNeighbors=10)\n",
    "for (x,y,w,h) in faceAreas:\n",
    "    cv2.rectangle(img, (x,y), (x+w,y+h), (255,0,0),2)\n",
    "    roiGray = grayImg[y:y+h,x:x+w]\n",
    "    roiColor = img[y:y+h,x:x+w]\n",
    "    smileAreas = smileCascade.detectMultiScale(roiGray)\n",
    "    eyeAreas = eyeCascade.detectMultiScale(roiGray)\n",
    "\n",
    "    for (sx,sy,sw,sh) in smileAreas:\n",
    "        cv2.rectangle(roiColor, (sx,sy), (sx+sw,sy+sh), (0,255,0),2)\n",
    "\n",
    "    for (ex,ey,ew,eh) in eyeAreas:\n",
    "        cv2.rectangle(roiColor, (ex,ey), (ex+ew,ey+eh), (0,0,255),2)\n",
    "\n",
    "showImg(\"Image\",img)\n",
    "print(f\"Found {len(faceAreas)} faces!\")\n"
   ]
  },
  {
   "cell_type": "markdown",
   "metadata": {},
   "source": [
    "Зробити розпізнавання використовуючи будь-яке відео з обличчям людини,\n",
    "тривалiстю не менше 30 секунд. Можно використати камеру ноутбука;"
   ]
  },
  {
   "cell_type": "code",
   "execution_count": 42,
   "metadata": {},
   "outputs": [],
   "source": [
    "import numpy\n",
    "\n",
    "faceCascade = cv2.CascadeClassifier(cv2.data.haarcascades + 'haarcascade_frontalface_default.xml')\n",
    "cv2.startWindowThread()\n",
    "\n",
    "video = cv2.VideoCapture('video.MOV')\n",
    "while True:\n",
    "\n",
    "    ret, frame = video.read()\n",
    "    if not ret: break \n",
    "\n",
    "    frame = cv2.resize(frame, (300,550))\n",
    "    grayFrame = cv2.cvtColor(frame,cv2.COLOR_RGB2GRAY)\n",
    "    \n",
    "    faceAreas = faceAreas = faceCascade.detectMultiScale(grayFrame, scaleFactor=1.1 , minNeighbors=10)\n",
    "    for(x,y,w,h) in faceAreas:\n",
    "        cv2.rectangle(frame, (x,y), (x+w,y+h), (0,0,255),2)\n",
    "        \n",
    "    cv2.imshow('Video',frame)\n",
    "\n",
    "    if(cv2.waitKey(1)& 0XFF == ord('q')):\n",
    "        break\n",
    "    \n",
    "video.release()\n",
    "cv2.destroyAllWindows()"
   ]
  },
  {
   "cell_type": "markdown",
   "metadata": {},
   "source": [
    "Обробити вiдеофал, так щоб вiн видiляв пiшоходiв i, по можливостi, їхнi\n",
    "обличчя. Файл можна взяти з youtube i вирiзати ролик тривалiстю не менше 30\n",
    "секунд."
   ]
  },
  {
   "cell_type": "code",
   "execution_count": 43,
   "metadata": {},
   "outputs": [],
   "source": [
    "import numpy\n",
    "\n",
    "hog = cv2.HOGDescriptor()\n",
    "hog.setSVMDetector(cv2.HOGDescriptor_getDefaultPeopleDetector())\n",
    "faceCascade = cv2.CascadeClassifier(cv2.data.haarcascades + 'haarcascade_frontalface_default.xml')\n",
    "\n",
    "cv2.startWindowThread()\n",
    "\n",
    "video = cv2.VideoCapture('people walking.mp4')\n",
    "while True:\n",
    "    ret, frame = video.read()\n",
    "    if not ret: break \n",
    "\n",
    "    frame = cv2.resize(frame, (900,600))\n",
    "    grayFrame = cv2.cvtColor(frame,cv2.COLOR_RGB2GRAY)\n",
    "    faceAreas = faceAreas = faceCascade.detectMultiScale(grayFrame, scaleFactor=1.1 , minNeighbors=10)\n",
    "    for(x,y,w,h) in faceAreas:\n",
    "        cv2.rectangle(frame, (x,y), (x+w,y+h), (0,0,255),2)\n",
    "\n",
    "    boxes, weights = hog.detectMultiScale(frame, winStride =(16,16))\n",
    "    boxes = numpy.array([[x,y,x+w,y+h] for (x,y,w,h) in boxes])\n",
    "    index = 0\n",
    "    for(x1,y1,x2,y2) in boxes:\n",
    "        if(weights[index] < 0.5):\n",
    "            continue\n",
    "        cv2.rectangle(frame,(x1,y1),(x2,y2),(0,255,255),1)\n",
    "        index+=1\n",
    "\n",
    "    cv2.imshow('Video',frame)\n",
    "    if(cv2.waitKey(1)& 0XFF == ord('q')):\n",
    "        break\n",
    "\n",
    "video.release()\n",
    "cv2.destroyAllWindows()"
   ]
  }
 ],
 "metadata": {
  "kernelspec": {
   "display_name": "Python 3.10.4 64-bit",
   "language": "python",
   "name": "python3"
  },
  "language_info": {
   "codemirror_mode": {
    "name": "ipython",
    "version": 3
   },
   "file_extension": ".py",
   "mimetype": "text/x-python",
   "name": "python",
   "nbconvert_exporter": "python",
   "pygments_lexer": "ipython3",
   "version": "3.10.4"
  },
  "orig_nbformat": 4,
  "vscode": {
   "interpreter": {
    "hash": "cd33f47137b00f9a3c223ad7cd7ea8009173bfffa8c9627ff61bae578e5b56e2"
   }
  }
 },
 "nbformat": 4,
 "nbformat_minor": 2
}
