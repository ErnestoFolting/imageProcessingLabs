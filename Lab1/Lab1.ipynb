{
 "cells": [
  {
   "cell_type": "markdown",
   "metadata": {},
   "source": [
    "Для початку, перевіримо чи встановлений пакет для роботи з OpenCV."
   ]
  },
  {
   "cell_type": "code",
   "execution_count": 165,
   "metadata": {},
   "outputs": [
    {
     "name": "stdout",
     "output_type": "stream",
     "text": [
      "4.7.0\n"
     ]
    }
   ],
   "source": [
    "import cv2\n",
    "print(cv2.__version__)"
   ]
  },
  {
   "cell_type": "markdown",
   "metadata": {},
   "source": [
    "Для зручності зробимо функцію, що буде виводити зображення та чекати на введення будь-якої клавіші користувачем."
   ]
  },
  {
   "cell_type": "code",
   "execution_count": 166,
   "metadata": {},
   "outputs": [],
   "source": [
    "def showImg(imgName, img):\n",
    "    cv2.imshow(imgName, img)\n",
    "    cv2.waitKey()\n",
    "    cv2.destroyAllWindows()"
   ]
  },
  {
   "cell_type": "markdown",
   "metadata": {},
   "source": [
    "Зчитаємо зображення у кольоровому режимі та у режимі градації сірого та відобразимо кольорове зображення."
   ]
  },
  {
   "cell_type": "code",
   "execution_count": 167,
   "metadata": {},
   "outputs": [],
   "source": [
    "img = cv2.imread('Bakota.jpg')\n",
    "imgGray = cv2.imread('Bakota.jpg',0)\n",
    "showImg('Bakota', img)"
   ]
  },
  {
   "cell_type": "markdown",
   "metadata": {},
   "source": [
    "Збережемо чорно-білий файл та відкриємо його."
   ]
  },
  {
   "cell_type": "code",
   "execution_count": 168,
   "metadata": {},
   "outputs": [],
   "source": [
    "cv2.imwrite('BakotaBlackAndWhite.jpg',imgGray)\n",
    "imgGrayAfterSave = cv2.imread('BakotaBlackAndWhite.jpg')\n",
    "showImg('Bakota black and white', imgGrayAfterSave)"
   ]
  },
  {
   "cell_type": "markdown",
   "metadata": {},
   "source": [
    "Тепер доступимось до пікселя [100,50]."
   ]
  },
  {
   "cell_type": "code",
   "execution_count": 169,
   "metadata": {},
   "outputs": [
    {
     "name": "stdout",
     "output_type": "stream",
     "text": [
      "red = 103, green = 96, blue = 103\n"
     ]
    }
   ],
   "source": [
    "(blue,green,red) = img[100,50]\n",
    "print(f\"{red = }, {green = }, {blue = }\")"
   ]
  },
  {
   "cell_type": "markdown",
   "metadata": {},
   "source": [
    "Виріжемо частину зображення"
   ]
  },
  {
   "cell_type": "code",
   "execution_count": 170,
   "metadata": {},
   "outputs": [],
   "source": [
    "ROI = img[60:160, 320:420]\n",
    "showImg(\"ROI\", ROI)"
   ]
  },
  {
   "cell_type": "markdown",
   "metadata": {},
   "source": [
    "Змінимо розмір зображення, провівши необхідні розрахунки."
   ]
  },
  {
   "cell_type": "code",
   "execution_count": 171,
   "metadata": {},
   "outputs": [],
   "source": [
    "h,w = img.shape[0:2]\n",
    "hNew = 300\n",
    "ratio = w / h\n",
    "wNew = int(hNew * ratio)\n",
    "resized = cv2.resize(img,(wNew,hNew))\n",
    "showImg(\"Resized\", resized)"
   ]
  },
  {
   "cell_type": "markdown",
   "metadata": {},
   "source": [
    "Зробимо це за допомогою пакету imutils."
   ]
  },
  {
   "cell_type": "code",
   "execution_count": 172,
   "metadata": {},
   "outputs": [],
   "source": [
    "import cv2\n",
    "import imutils\n",
    "\n",
    "resized2 = imutils.resize(img,width = 300)\n",
    "showImg(\"Resized\", resized2)"
   ]
  },
  {
   "cell_type": "markdown",
   "metadata": {},
   "source": [
    "Повернемо зображення на 45 градусів з центром у середині прямокутника."
   ]
  },
  {
   "cell_type": "code",
   "execution_count": 173,
   "metadata": {},
   "outputs": [],
   "source": [
    "h,w = resized2.shape[0:2]\n",
    "center = (w//2, h//2)\n",
    "M = cv2.getRotationMatrix2D(center, -45, 1.0)\n",
    "rotated = cv2.warpAffine(resized2,M,(w,h)) \n",
    "showImg('Rotated', rotated)"
   ]
  },
  {
   "cell_type": "markdown",
   "metadata": {},
   "source": [
    "Виконаємо поворот з використанням пакету imutils."
   ]
  },
  {
   "cell_type": "code",
   "execution_count": 174,
   "metadata": {},
   "outputs": [],
   "source": [
    "rotated2 = imutils.rotate(resized2,-45)\n",
    "showImg('Rotated2',  rotated2)"
   ]
  },
  {
   "cell_type": "markdown",
   "metadata": {},
   "source": [
    "Додамо розмиття Гауса."
   ]
  },
  {
   "cell_type": "code",
   "execution_count": 175,
   "metadata": {},
   "outputs": [],
   "source": [
    "blurred = cv2.GaussianBlur(resized2,(11,11),0)\n",
    "showImg('Blurred', blurred)"
   ]
  },
  {
   "cell_type": "markdown",
   "metadata": {},
   "source": [
    "Склеїмо 2 зображення для порівняння."
   ]
  },
  {
   "cell_type": "code",
   "execution_count": 176,
   "metadata": {},
   "outputs": [],
   "source": [
    "import numpy as np\n",
    "images = np.hstack((resized2,blurred))\n",
    "showImg('images',images)"
   ]
  },
  {
   "cell_type": "markdown",
   "metadata": {},
   "source": [
    "Намалюємо прямокутник."
   ]
  },
  {
   "cell_type": "code",
   "execution_count": 177,
   "metadata": {},
   "outputs": [],
   "source": [
    "cv2.rectangle(resized2,(0,0),(100,100),(0,0,255),1)\n",
    "showImg('imgWithRectangle',resized2)"
   ]
  },
  {
   "cell_type": "markdown",
   "metadata": {},
   "source": [
    "Намалюємо лінію."
   ]
  },
  {
   "cell_type": "code",
   "execution_count": 178,
   "metadata": {},
   "outputs": [],
   "source": [
    "square = np.zeros((200,200,3),np.uint8)\n",
    "cv2.line(square,(0,0),(200,200),(255,0,0),1)\n",
    "showImg('square',square)"
   ]
  },
  {
   "cell_type": "markdown",
   "metadata": {},
   "source": [
    "Намалюємо трикутник."
   ]
  },
  {
   "cell_type": "code",
   "execution_count": 179,
   "metadata": {},
   "outputs": [],
   "source": [
    "square = np.zeros((200,200,3),np.uint8)\n",
    "points = np.array([[0,0],[100,50],[50,100],[0,0]])\n",
    "cv2.polylines(square,np.int32([points]),1,(255,255,255))\n",
    "showImg('Square With Rectangle',square)"
   ]
  },
  {
   "cell_type": "markdown",
   "metadata": {},
   "source": [
    "Намалюємо коло."
   ]
  },
  {
   "cell_type": "code",
   "execution_count": 180,
   "metadata": {},
   "outputs": [],
   "source": [
    "square = np.zeros((200,200,3),np.uint8)\n",
    "cv2.circle(square,(100,100),50,(0,0,255),1)\n",
    "showImg('Square with circle',square)"
   ]
  },
  {
   "cell_type": "markdown",
   "metadata": {},
   "source": [
    "Розмістимо текст на зображенні."
   ]
  },
  {
   "cell_type": "code",
   "execution_count": 181,
   "metadata": {},
   "outputs": [],
   "source": [
    "square = np.zeros((200,600,3),np.uint8)\n",
    "font = cv2.FONT_HERSHEY_SCRIPT_COMPLEX\n",
    "cv2.putText(square,'OpenCV', (0,120),font,4,(255,255,255),4,cv2.LINE_4)\n",
    "showImg('Square with font', square)"
   ]
  }
 ],
 "metadata": {
  "kernelspec": {
   "display_name": "Python 3.10.4 64-bit",
   "language": "python",
   "name": "python3"
  },
  "language_info": {
   "codemirror_mode": {
    "name": "ipython",
    "version": 3
   },
   "file_extension": ".py",
   "mimetype": "text/x-python",
   "name": "python",
   "nbconvert_exporter": "python",
   "pygments_lexer": "ipython3",
   "version": "3.10.4"
  },
  "orig_nbformat": 4,
  "vscode": {
   "interpreter": {
    "hash": "cd33f47137b00f9a3c223ad7cd7ea8009173bfffa8c9627ff61bae578e5b56e2"
   }
  }
 },
 "nbformat": 4,
 "nbformat_minor": 2
}
