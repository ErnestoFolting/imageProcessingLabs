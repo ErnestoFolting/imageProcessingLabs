{
 "cells": [
  {
   "cell_type": "code",
   "execution_count": 1,
   "metadata": {},
   "outputs": [],
   "source": [
    "import dlib as dl\n",
    "from glob import glob\n",
    "import os\n",
    "\n",
    "face_detector = dl.get_frontal_face_detector()\n",
    "\n",
    "shape_predictor = dl.shape_predictor(\n",
    "    \"/Education/imageProcessing/imageProcessingLabs/Lab4/models/shape_predictor_68_face_landmarks.dat\"\n",
    ")\n",
    "\n",
    "face_encoder = dl.face_recognition_model_v1(\n",
    "    \"/Education/imageProcessing/imageProcessingLabs/Lab4/models/dlib_face_recognition_resnet_model_v1.dat\"\n",
    ")\n",
    "\n",
    "VALID_EXTENSIONS = ['.png','.jpg','.jpeg']\n",
    "\n",
    "def get_image_paths(root_dir, class_names):\n",
    "    image_paths = []\n",
    "    for class_name in class_names:\n",
    "        class_dir = os.path.sep.join([root_dir,class_name])\n",
    "        class_file_paths = glob(os.path.sep.join([class_dir,'*.*']))\n",
    "\n",
    "\n",
    "        for file_path in class_file_paths:\n",
    "            ext = os.path.splitext(file_path)[1]\n",
    "            if ext.lower() not in VALID_EXTENSIONS:\n",
    "                print(\"Skippinng file: \" + file_path)\n",
    "                continue\n",
    "\n",
    "            image_paths.append(file_path)\n",
    "             \n",
    "    return image_paths    \n"
   ]
  },
  {
   "cell_type": "code",
   "execution_count": 2,
   "metadata": {},
   "outputs": [
    {
     "name": "stdout",
     "output_type": "stream",
     "text": [
      "['dataset\\\\Danil_Smyslov\\\\photo_2023-03-01_12-41-00.jpg', 'dataset\\\\Danil_Smyslov\\\\photo_2023-03-01_12-41-01.jpg', 'dataset\\\\Danil_Smyslov\\\\photo_2023-03-01_12-41-02 (2).jpg', 'dataset\\\\Danil_Smyslov\\\\photo_2023-03-01_12-41-02.jpg', 'dataset\\\\Danil_Smyslov\\\\photo_2023-03-01_12-41-03 (2).jpg', 'dataset\\\\Danil_Smyslov\\\\photo_2023-03-01_12-41-03.jpg', 'dataset\\\\Danil_Smyslov\\\\photo_2023-03-01_12-41-04.jpg', 'dataset\\\\Danil_Smyslov\\\\photo_2023-03-01_12-41-05.jpg', 'dataset\\\\Danil_Smyslov\\\\photo_2023-03-01_12-41-06 (2).jpg', 'dataset\\\\Danil_Smyslov\\\\photo_2023-03-01_12-41-06.jpg', 'dataset\\\\Danil_Smyslov\\\\photo_2023-03-01_12-41-07 (2).jpg', 'dataset\\\\Danil_Smyslov\\\\photo_2023-03-01_12-41-07.jpg', 'dataset\\\\Danil_Smyslov\\\\photo_2023-03-01_12-41-08.jpg', 'dataset\\\\Danil_Smyslov\\\\photo_2023-03-01_12-41-09 (2).jpg', 'dataset\\\\Danil_Smyslov\\\\photo_2023-03-01_12-41-09.jpg']\n"
     ]
    }
   ],
   "source": [
    "import dlib\n",
    "\n",
    "class_names = ['Danil_Smyslov']\n",
    "image_paths = get_image_paths(\"dataset\",class_names)\n",
    "\n",
    "print(image_paths)"
   ]
  },
  {
   "cell_type": "code",
   "execution_count": 3,
   "metadata": {},
   "outputs": [],
   "source": [
    "import cv2\n",
    "def face_rects(image):\n",
    "    grayImg = cv2.cvtColor(image, cv2.COLOR_BGR2GRAY)\n",
    "    rects = face_detector(grayImg,1)\n",
    "    return rects"
   ]
  },
  {
   "cell_type": "code",
   "execution_count": 4,
   "metadata": {},
   "outputs": [],
   "source": [
    "def face_landmarks(image):\n",
    "    return [shape_predictor(image, face_rect)\n",
    "            for face_rect in face_rects(image)]"
   ]
  },
  {
   "cell_type": "code",
   "execution_count": 5,
   "metadata": {},
   "outputs": [],
   "source": [
    "def face_encodings(image):\n",
    "    return [np.array(face_encoder.compute_face_descriptor(image, face_landmark))\n",
    "            for face_landmark in face_landmarks(image)]"
   ]
  },
  {
   "cell_type": "code",
   "execution_count": 6,
   "metadata": {},
   "outputs": [
    {
     "name": "stdout",
     "output_type": "stream",
     "text": [
      "['dataset\\\\Arnold_Schwarzenegger\\\\Arnold_Schwarzenegger_0001.jpg', 'dataset\\\\Arnold_Schwarzenegger\\\\Arnold_Schwarzenegger_0002.jpg', 'dataset\\\\Arnold_Schwarzenegger\\\\Arnold_Schwarzenegger_0003.jpg', 'dataset\\\\Arnold_Schwarzenegger\\\\Arnold_Schwarzenegger_0004.jpg', 'dataset\\\\Arnold_Schwarzenegger\\\\Arnold_Schwarzenegger_0005.jpg', 'dataset\\\\Arnold_Schwarzenegger\\\\Arnold_Schwarzenegger_0006.jpg', 'dataset\\\\Arnold_Schwarzenegger\\\\Arnold_Schwarzenegger_0007.jpg', 'dataset\\\\Arnold_Schwarzenegger\\\\Arnold_Schwarzenegger_0008.jpg', 'dataset\\\\Arnold_Schwarzenegger\\\\Arnold_Schwarzenegger_0009.jpg', 'dataset\\\\Arnold_Schwarzenegger\\\\Arnold_Schwarzenegger_0010.jpg', 'dataset\\\\Arnold_Schwarzenegger\\\\Arnold_Schwarzenegger_0011.jpg', 'dataset\\\\Arnold_Schwarzenegger\\\\Arnold_Schwarzenegger_0012.jpg', 'dataset\\\\Arnold_Schwarzenegger\\\\Arnold_Schwarzenegger_0013.jpg', 'dataset\\\\Arnold_Schwarzenegger\\\\Arnold_Schwarzenegger_0014.jpg', 'dataset\\\\Arnold_Schwarzenegger\\\\Arnold_Schwarzenegger_0015.jpg', 'dataset\\\\Arnold_Schwarzenegger\\\\Arnold_Schwarzenegger_0016.jpg', 'dataset\\\\Arnold_Schwarzenegger\\\\Arnold_Schwarzenegger_0017.jpg', 'dataset\\\\Arnold_Schwarzenegger\\\\Arnold_Schwarzenegger_0018.jpg', 'dataset\\\\Arnold_Schwarzenegger\\\\Arnold_Schwarzenegger_0019.jpg', 'dataset\\\\Arnold_Schwarzenegger\\\\Arnold_Schwarzenegger_0020.jpg', 'dataset\\\\Arnold_Schwarzenegger\\\\Arnold_Schwarzenegger_0021.jpg', 'dataset\\\\Arnold_Schwarzenegger\\\\Arnold_Schwarzenegger_0022.jpg', 'dataset\\\\Arnold_Schwarzenegger\\\\Arnold_Schwarzenegger_0023.jpg', 'dataset\\\\Arnold_Schwarzenegger\\\\Arnold_Schwarzenegger_0024.jpg', 'dataset\\\\Arnold_Schwarzenegger\\\\Arnold_Schwarzenegger_0025.jpg', 'dataset\\\\Arnold_Schwarzenegger\\\\Arnold_Schwarzenegger_0026.jpg', 'dataset\\\\Arnold_Schwarzenegger\\\\Arnold_Schwarzenegger_0027.jpg', 'dataset\\\\Arnold_Schwarzenegger\\\\Arnold_Schwarzenegger_0028.jpg', 'dataset\\\\Arnold_Schwarzenegger\\\\Arnold_Schwarzenegger_0029.jpg', 'dataset\\\\Arnold_Schwarzenegger\\\\Arnold_Schwarzenegger_0030.jpg', 'dataset\\\\Arnold_Schwarzenegger\\\\Arnold_Schwarzenegger_0031.jpg', 'dataset\\\\Arnold_Schwarzenegger\\\\Arnold_Schwarzenegger_0032.jpg', 'dataset\\\\Arnold_Schwarzenegger\\\\Arnold_Schwarzenegger_0033.jpg', 'dataset\\\\Arnold_Schwarzenegger\\\\Arnold_Schwarzenegger_0034.jpg', 'dataset\\\\Arnold_Schwarzenegger\\\\Arnold_Schwarzenegger_0035.jpg', 'dataset\\\\Arnold_Schwarzenegger\\\\Arnold_Schwarzenegger_0036.jpg', 'dataset\\\\Arnold_Schwarzenegger\\\\Arnold_Schwarzenegger_0037.jpg', 'dataset\\\\Arnold_Schwarzenegger\\\\Arnold_Schwarzenegger_0038.jpg', 'dataset\\\\Arnold_Schwarzenegger\\\\Arnold_Schwarzenegger_0039.jpg', 'dataset\\\\Arnold_Schwarzenegger\\\\Arnold_Schwarzenegger_0040.jpg', 'dataset\\\\Arnold_Schwarzenegger\\\\Arnold_Schwarzenegger_0041.jpg', 'dataset\\\\Arnold_Schwarzenegger\\\\Arnold_Schwarzenegger_0042.jpg', 'dataset\\\\Danil_Smyslov\\\\photo_2023-03-01_12-41-00.jpg', 'dataset\\\\Danil_Smyslov\\\\photo_2023-03-01_12-41-01.jpg', 'dataset\\\\Danil_Smyslov\\\\photo_2023-03-01_12-41-02 (2).jpg', 'dataset\\\\Danil_Smyslov\\\\photo_2023-03-01_12-41-02.jpg', 'dataset\\\\Danil_Smyslov\\\\photo_2023-03-01_12-41-03 (2).jpg', 'dataset\\\\Danil_Smyslov\\\\photo_2023-03-01_12-41-03.jpg', 'dataset\\\\Danil_Smyslov\\\\photo_2023-03-01_12-41-04.jpg', 'dataset\\\\Danil_Smyslov\\\\photo_2023-03-01_12-41-05.jpg', 'dataset\\\\Danil_Smyslov\\\\photo_2023-03-01_12-41-06 (2).jpg', 'dataset\\\\Danil_Smyslov\\\\photo_2023-03-01_12-41-06.jpg', 'dataset\\\\Danil_Smyslov\\\\photo_2023-03-01_12-41-07 (2).jpg', 'dataset\\\\Danil_Smyslov\\\\photo_2023-03-01_12-41-07.jpg', 'dataset\\\\Danil_Smyslov\\\\photo_2023-03-01_12-41-08.jpg', 'dataset\\\\Danil_Smyslov\\\\photo_2023-03-01_12-41-09 (2).jpg', 'dataset\\\\Danil_Smyslov\\\\photo_2023-03-01_12-41-09.jpg']\n"
     ]
    }
   ],
   "source": [
    "import numpy as np\n",
    "root_dir = \"dataset\"\n",
    "\n",
    "class_names = os.listdir(root_dir)\n",
    "\n",
    "image_paths = get_image_paths(root_dir,class_names)\n",
    "\n",
    "name_encodings_dict = {}\n",
    "print(image_paths)\n"
   ]
  },
  {
   "cell_type": "code",
   "execution_count": 7,
   "metadata": {},
   "outputs": [
    {
     "name": "stdout",
     "output_type": "stream",
     "text": [
      "Image processed 1/57\n",
      "Image processed 2/57\n",
      "Image processed 3/57\n",
      "Image processed 4/57\n",
      "Image processed 5/57\n",
      "Image processed 6/57\n",
      "Image processed 7/57\n",
      "Image processed 8/57\n",
      "Image processed 9/57\n",
      "Image processed 10/57\n",
      "Image processed 11/57\n",
      "Image processed 12/57\n",
      "Image processed 13/57\n",
      "Image processed 14/57\n",
      "Image processed 15/57\n",
      "Image processed 16/57\n",
      "Image processed 17/57\n",
      "Image processed 18/57\n",
      "Image processed 19/57\n",
      "Image processed 20/57\n",
      "Image processed 21/57\n",
      "Image processed 22/57\n",
      "Image processed 23/57\n",
      "Image processed 24/57\n",
      "Image processed 25/57\n",
      "Image processed 26/57\n",
      "Image processed 27/57\n",
      "Image processed 28/57\n",
      "Image processed 29/57\n",
      "Image processed 30/57\n",
      "Image processed 31/57\n",
      "Image processed 32/57\n",
      "Image processed 33/57\n",
      "Image processed 34/57\n",
      "Image processed 35/57\n",
      "Image processed 36/57\n",
      "Image processed 37/57\n",
      "Image processed 38/57\n",
      "Image processed 39/57\n",
      "Image processed 40/57\n",
      "Image processed 41/57\n",
      "Image processed 42/57\n",
      "Image processed 43/57\n",
      "Image processed 44/57\n",
      "Image processed 45/57\n",
      "Image processed 46/57\n",
      "Image processed 47/57\n",
      "Image processed 48/57\n",
      "Image processed 49/57\n",
      "Image processed 50/57\n",
      "Image processed 51/57\n",
      "Image processed 52/57\n",
      "Image processed 53/57\n",
      "Image processed 54/57\n",
      "Image processed 55/57\n",
      "Image processed 56/57\n",
      "Image processed 57/57\n"
     ]
    }
   ],
   "source": [
    "import pickle \n",
    "nb_current_image = 1\n",
    "\n",
    "for image_path in image_paths:\n",
    "    print(\"Image processed \" + str(nb_current_image) + \"/\" + str(len(image_paths)))\n",
    "    image = cv2.imread(image_path)\n",
    "    encodings = face_encodings(image)\n",
    "    name = image_path.split(os.path.sep)[-2]\n",
    "    e = name_encodings_dict.get(name,[])\n",
    "    e.extend(encodings)\n",
    "    name_encodings_dict[name] = e\n",
    "    nb_current_image += 1\n",
    "\n",
    "with open(\"encodings.pickle\",\"wb\") as f:\n",
    "    pickle.dump(name_encodings_dict,f)"
   ]
  },
  {
   "cell_type": "code",
   "execution_count": 8,
   "metadata": {},
   "outputs": [],
   "source": [
    "with open(\"encodings.pickle\", \"rb\") as f:\n",
    "    name_encodings_dict = pickle.load(f)\n",
    "image = cv2.imread(\"/Education/imageProcessing/imageProcessingLabs/Lab4/examples/3.jpg\")\n",
    "encodings = face_encodings(image)\n",
    "names = []"
   ]
  },
  {
   "cell_type": "code",
   "execution_count": 9,
   "metadata": {},
   "outputs": [],
   "source": [
    "def nb_of_matches(known_encodings, unknown_encoding):\n",
    "    distances = np.linalg.norm(known_encodings - unknown_encoding,axis=1)\n",
    "    small_distances = distances <= 0.6\n",
    "    return sum(small_distances)"
   ]
  },
  {
   "cell_type": "code",
   "execution_count": 10,
   "metadata": {},
   "outputs": [],
   "source": [
    "for encoding in encodings:\n",
    "    counts = {}\n",
    "    for(name,encodings) in name_encodings_dict.items():\n",
    "        counts[name] = nb_of_matches(encodings, encoding)\n",
    "    if all(count == 0 for count in counts.values()):\n",
    "        name = \"Unknown\"\n",
    "    else:\n",
    "        name = max(counts, key = counts.get)\n",
    "    names.append(name)"
   ]
  },
  {
   "cell_type": "code",
   "execution_count": 11,
   "metadata": {},
   "outputs": [
    {
     "data": {
      "text/plain": [
       "-1"
      ]
     },
     "execution_count": 11,
     "metadata": {},
     "output_type": "execute_result"
    }
   ],
   "source": [
    "for rect,name in zip(face_rects(image),names):\n",
    "    x1,y1,x2,y2 = rect.left(),rect.top(),rect.right(),rect.bottom()\n",
    "    cv2.rectangle(image,(x1,y1),(x2,y2),(0,0,255),2)\n",
    "    cv2.putText(image,name,(x1,y1-10),cv2.FONT_HERSHEY_SIMPLEX,0.72,(0,0,255),2)\n",
    "\n",
    "cv2.imshow(\"image\",image)\n",
    "cv2.waitKey(0)"
   ]
  }
 ],
 "metadata": {
  "kernelspec": {
   "display_name": "Python 3.10.4 64-bit",
   "language": "python",
   "name": "python3"
  },
  "language_info": {
   "codemirror_mode": {
    "name": "ipython",
    "version": 3
   },
   "file_extension": ".py",
   "mimetype": "text/x-python",
   "name": "python",
   "nbconvert_exporter": "python",
   "pygments_lexer": "ipython3",
   "version": "3.10.4"
  },
  "orig_nbformat": 4,
  "vscode": {
   "interpreter": {
    "hash": "cd33f47137b00f9a3c223ad7cd7ea8009173bfffa8c9627ff61bae578e5b56e2"
   }
  }
 },
 "nbformat": 4,
 "nbformat_minor": 2
}
