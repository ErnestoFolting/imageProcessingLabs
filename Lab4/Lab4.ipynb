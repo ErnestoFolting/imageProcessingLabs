{
 "cells": [
  {
   "cell_type": "code",
   "execution_count": 1,
   "metadata": {},
   "outputs": [],
   "source": [
    "import dlib as dl\n",
    "from glob import glob\n",
    "import os\n",
    "\n",
    "face_detector = dl.get_frontal_face_detector()\n",
    "\n",
    "shape_predictor = dl.shape_predictor(\n",
    "    \"/Education/imageProcessing/imageProcessingLabs/Lab4/models/shape_predictor_68_face_landmarks.dat\"\n",
    ")\n",
    "\n",
    "face_encoder = dl.face_recognition_model_v1(\n",
    "    \"/Education/imageProcessing/imageProcessingLabs/Lab4/models/dlib_face_recognition_resnet_model_v1.dat\"\n",
    ")\n",
    "\n",
    "VALID_EXTENSIONS = ['.png','.jpg','.jpeg']\n",
    "\n",
    "def get_image_paths(root_dir, class_names):\n",
    "    image_paths = []\n",
    "    for class_name in class_names:\n",
    "        class_dir = os.path.sep.join([root_dir,class_name])\n",
    "        class_file_paths = glob(os.path.sep.join([class_dir,'*.*']))\n",
    "\n",
    "\n",
    "        for file_path in class_file_paths:\n",
    "            ext = os.path.splitext(file_path)[1]\n",
    "            if ext.lower() not in VALID_EXTENSIONS:\n",
    "                print(\"Skippinng file: \" + file_path)\n",
    "                continue\n",
    "\n",
    "            image_paths.append(file_path)\n",
    "             \n",
    "        return image_paths\n"
   ]
  },
  {
   "cell_type": "code",
   "execution_count": 2,
   "metadata": {},
   "outputs": [
    {
     "name": "stdout",
     "output_type": "stream",
     "text": [
      "['dataset\\\\Arnold_Schwarzenegger\\\\Arnold_Schwarzenegger_0001.jpg', 'dataset\\\\Arnold_Schwarzenegger\\\\Arnold_Schwarzenegger_0002.jpg', 'dataset\\\\Arnold_Schwarzenegger\\\\Arnold_Schwarzenegger_0003.jpg', 'dataset\\\\Arnold_Schwarzenegger\\\\Arnold_Schwarzenegger_0004.jpg', 'dataset\\\\Arnold_Schwarzenegger\\\\Arnold_Schwarzenegger_0005.jpg', 'dataset\\\\Arnold_Schwarzenegger\\\\Arnold_Schwarzenegger_0006.jpg', 'dataset\\\\Arnold_Schwarzenegger\\\\Arnold_Schwarzenegger_0007.jpg', 'dataset\\\\Arnold_Schwarzenegger\\\\Arnold_Schwarzenegger_0008.jpg', 'dataset\\\\Arnold_Schwarzenegger\\\\Arnold_Schwarzenegger_0009.jpg', 'dataset\\\\Arnold_Schwarzenegger\\\\Arnold_Schwarzenegger_0010.jpg', 'dataset\\\\Arnold_Schwarzenegger\\\\Arnold_Schwarzenegger_0011.jpg', 'dataset\\\\Arnold_Schwarzenegger\\\\Arnold_Schwarzenegger_0012.jpg', 'dataset\\\\Arnold_Schwarzenegger\\\\Arnold_Schwarzenegger_0013.jpg', 'dataset\\\\Arnold_Schwarzenegger\\\\Arnold_Schwarzenegger_0014.jpg', 'dataset\\\\Arnold_Schwarzenegger\\\\Arnold_Schwarzenegger_0015.jpg', 'dataset\\\\Arnold_Schwarzenegger\\\\Arnold_Schwarzenegger_0016.jpg', 'dataset\\\\Arnold_Schwarzenegger\\\\Arnold_Schwarzenegger_0017.jpg', 'dataset\\\\Arnold_Schwarzenegger\\\\Arnold_Schwarzenegger_0018.jpg', 'dataset\\\\Arnold_Schwarzenegger\\\\Arnold_Schwarzenegger_0019.jpg', 'dataset\\\\Arnold_Schwarzenegger\\\\Arnold_Schwarzenegger_0020.jpg', 'dataset\\\\Arnold_Schwarzenegger\\\\Arnold_Schwarzenegger_0021.jpg', 'dataset\\\\Arnold_Schwarzenegger\\\\Arnold_Schwarzenegger_0022.jpg', 'dataset\\\\Arnold_Schwarzenegger\\\\Arnold_Schwarzenegger_0023.jpg', 'dataset\\\\Arnold_Schwarzenegger\\\\Arnold_Schwarzenegger_0024.jpg', 'dataset\\\\Arnold_Schwarzenegger\\\\Arnold_Schwarzenegger_0025.jpg', 'dataset\\\\Arnold_Schwarzenegger\\\\Arnold_Schwarzenegger_0026.jpg', 'dataset\\\\Arnold_Schwarzenegger\\\\Arnold_Schwarzenegger_0027.jpg', 'dataset\\\\Arnold_Schwarzenegger\\\\Arnold_Schwarzenegger_0028.jpg', 'dataset\\\\Arnold_Schwarzenegger\\\\Arnold_Schwarzenegger_0029.jpg', 'dataset\\\\Arnold_Schwarzenegger\\\\Arnold_Schwarzenegger_0030.jpg', 'dataset\\\\Arnold_Schwarzenegger\\\\Arnold_Schwarzenegger_0031.jpg', 'dataset\\\\Arnold_Schwarzenegger\\\\Arnold_Schwarzenegger_0032.jpg', 'dataset\\\\Arnold_Schwarzenegger\\\\Arnold_Schwarzenegger_0033.jpg', 'dataset\\\\Arnold_Schwarzenegger\\\\Arnold_Schwarzenegger_0034.jpg', 'dataset\\\\Arnold_Schwarzenegger\\\\Arnold_Schwarzenegger_0035.jpg', 'dataset\\\\Arnold_Schwarzenegger\\\\Arnold_Schwarzenegger_0036.jpg', 'dataset\\\\Arnold_Schwarzenegger\\\\Arnold_Schwarzenegger_0037.jpg', 'dataset\\\\Arnold_Schwarzenegger\\\\Arnold_Schwarzenegger_0038.jpg', 'dataset\\\\Arnold_Schwarzenegger\\\\Arnold_Schwarzenegger_0039.jpg', 'dataset\\\\Arnold_Schwarzenegger\\\\Arnold_Schwarzenegger_0040.jpg', 'dataset\\\\Arnold_Schwarzenegger\\\\Arnold_Schwarzenegger_0041.jpg', 'dataset\\\\Arnold_Schwarzenegger\\\\Arnold_Schwarzenegger_0042.jpg']\n"
     ]
    }
   ],
   "source": [
    "import dlib\n",
    "\n",
    "class_names = ['Arnold_Schwarzenegger']\n",
    "image_paths = get_image_paths(\"dataset\",class_names)\n",
    "\n",
    "print(image_paths)"
   ]
  },
  {
   "cell_type": "code",
   "execution_count": 3,
   "metadata": {},
   "outputs": [],
   "source": [
    "import cv2\n",
    "def face_rects(image):\n",
    "    grayImg = cv2.cvtColor(image, cv2.COLOR_BGR2GRAY)\n",
    "    rects = face_detector(grayImg,1)\n",
    "    return rects"
   ]
  },
  {
   "cell_type": "code",
   "execution_count": 4,
   "metadata": {},
   "outputs": [],
   "source": [
    "def face_landmarks(image):\n",
    "    return [shape_predictor(image, face_rect)\n",
    "            for face_rect in face_rects(image)]"
   ]
  },
  {
   "cell_type": "code",
   "execution_count": 5,
   "metadata": {},
   "outputs": [],
   "source": [
    "def face_encodings(image):\n",
    "    return [np.array(face_encoder.compute_face_descriptor(image, face_landmark))\n",
    "            for face_landmark in face_landmarks(image)]"
   ]
  },
  {
   "cell_type": "code",
   "execution_count": 6,
   "metadata": {},
   "outputs": [
    {
     "name": "stdout",
     "output_type": "stream",
     "text": [
      "[array([-0.03356893,  0.18607634,  0.12689488, -0.06675264, -0.04707574,\n",
      "        0.03720026, -0.08982405, -0.01355545,  0.14364719, -0.07234323,\n",
      "        0.30770716,  0.07224167, -0.27761376, -0.12681505, -0.03849211,\n",
      "        0.13926408, -0.15113534, -0.09120898, -0.12049821, -0.05568493,\n",
      "        0.04196902,  0.0642963 ,  0.04264432, -0.00849969, -0.11994088,\n",
      "       -0.30285436, -0.05456863,  0.00676459,  0.04879332, -0.17280136,\n",
      "        0.03077771, -0.00620817, -0.16888888, -0.03020829, -0.0072679 ,\n",
      "        0.03830968, -0.10576212, -0.06680831,  0.18041329,  0.04825782,\n",
      "       -0.16054091,  0.04158447, -0.00313232,  0.26068377,  0.28784683,\n",
      "        0.02804893, -0.00874276, -0.04644641,  0.08364626, -0.2697657 ,\n",
      "        0.08065167,  0.19127013,  0.17409222,  0.06412923,  0.12882164,\n",
      "       -0.11688934, -0.02230896,  0.24187474, -0.20840095,  0.03849514,\n",
      "       -0.02045901, -0.08871154,  0.02919253, -0.03618222,  0.13873619,\n",
      "        0.13312095, -0.1446408 , -0.1391004 ,  0.17926478, -0.15099534,\n",
      "       -0.06307889,  0.08387249, -0.05511582, -0.15036316, -0.28503549,\n",
      "        0.01849448,  0.31589779,  0.13401137, -0.21174118, -0.01784926,\n",
      "       -0.0227736 , -0.04095274,  0.00569571,  0.04431392, -0.15804917,\n",
      "       -0.09533055, -0.06432094, -0.03537695,  0.14649072,  0.0699665 ,\n",
      "       -0.06830283,  0.26372555, -0.00204707, -0.01849964,  0.08864739,\n",
      "        0.00054625, -0.07402844, -0.0149326 , -0.09802049, -0.00816347,\n",
      "       -0.07463842, -0.20208164, -0.02651699,  0.08304983, -0.13223112,\n",
      "        0.15574332,  0.00403018,  0.04965174,  0.02398224,  0.04740087,\n",
      "       -0.12417933, -0.02875759,  0.17797543, -0.3084906 ,  0.24858803,\n",
      "        0.17164116,  0.00449815,  0.10843898,  0.1389989 ,  0.12022244,\n",
      "        0.00185024, -0.05612423, -0.07121856, -0.1082689 , -0.01248715,\n",
      "       -0.10490403,  0.11521031,  0.0292118 ])]\n",
      "(128,)\n"
     ]
    }
   ],
   "source": [
    "import numpy as np\n",
    "image = cv2.imread(\"dataset/Arnold_SChwarzenegger/Arnold_Schwarzenegger_0001.jpg\")\n",
    "print(face_encodings(image))\n",
    "print(face_encodings(image)[0].shape)\n"
   ]
  },
  {
   "cell_type": "code",
   "execution_count": 7,
   "metadata": {},
   "outputs": [],
   "source": [
    "root_dir = \"dataset\"\n",
    "\n",
    "class_names = os.listdir(root_dir)\n",
    "\n",
    "image_paths = get_image_paths(root_dir,class_names)\n",
    "\n",
    "name_encodings_dict = {}\n"
   ]
  },
  {
   "cell_type": "code",
   "execution_count": 8,
   "metadata": {},
   "outputs": [
    {
     "name": "stdout",
     "output_type": "stream",
     "text": [
      "Image processed 1/42\n",
      "Image processed 2/42\n",
      "Image processed 3/42\n",
      "Image processed 4/42\n",
      "Image processed 5/42\n",
      "Image processed 6/42\n",
      "Image processed 7/42\n",
      "Image processed 8/42\n",
      "Image processed 9/42\n",
      "Image processed 10/42\n",
      "Image processed 11/42\n",
      "Image processed 12/42\n",
      "Image processed 13/42\n",
      "Image processed 14/42\n",
      "Image processed 15/42\n",
      "Image processed 16/42\n",
      "Image processed 17/42\n",
      "Image processed 18/42\n",
      "Image processed 19/42\n",
      "Image processed 20/42\n",
      "Image processed 21/42\n",
      "Image processed 22/42\n",
      "Image processed 23/42\n",
      "Image processed 24/42\n",
      "Image processed 25/42\n",
      "Image processed 26/42\n",
      "Image processed 27/42\n",
      "Image processed 28/42\n",
      "Image processed 29/42\n",
      "Image processed 30/42\n",
      "Image processed 31/42\n",
      "Image processed 32/42\n",
      "Image processed 33/42\n",
      "Image processed 34/42\n",
      "Image processed 35/42\n",
      "Image processed 36/42\n",
      "Image processed 37/42\n",
      "Image processed 38/42\n",
      "Image processed 39/42\n",
      "Image processed 40/42\n",
      "Image processed 41/42\n",
      "Image processed 42/42\n"
     ]
    }
   ],
   "source": [
    "import pickle \n",
    "nb_current_image = 1\n",
    "\n",
    "for image_path in image_paths:\n",
    "    print(\"Image processed \" + str(nb_current_image) + \"/\" + str(len(image_paths)))\n",
    "    image = cv2.imread(image_path)\n",
    "    encodings = face_encodings(image)\n",
    "    name = image_path.split(os.path.sep)[-2]\n",
    "    e = name_encodings_dict.get(name,[])\n",
    "    e.extend(encodings)\n",
    "    name_encodings_dict[name] = e\n",
    "    nb_current_image += 1\n",
    "\n",
    "with open(\"encodings.pickle\",\"wb\") as f:\n",
    "    pickle.dump(name_encodings_dict,f)"
   ]
  },
  {
   "cell_type": "code",
   "execution_count": 9,
   "metadata": {},
   "outputs": [],
   "source": [
    "with open(\"encodings.pickle\", \"rb\") as f:\n",
    "    name_encodings_dict = pickle.load(f)\n",
    "image = cv2.imread(\"/Education/imageProcessing/imageProcessingLabs/Lab4/examples/1.jpg\")\n",
    "encodings = face_encodings(image)\n",
    "names = []"
   ]
  },
  {
   "cell_type": "code",
   "execution_count": 10,
   "metadata": {},
   "outputs": [],
   "source": [
    "def nb_of_matches(known_encodings, unknown_encoding):\n",
    "    distances = np.linalg.norm(known_encodings - unknown_encoding,axis=1)\n",
    "    small_distances = distances <= 0.6\n",
    "    return sum(small_distances)"
   ]
  },
  {
   "cell_type": "code",
   "execution_count": 11,
   "metadata": {},
   "outputs": [],
   "source": [
    "for encoding in encodings:\n",
    "    counts = {}\n",
    "    for(name,encodings) in name_encodings_dict.items():\n",
    "        counts[name] = nb_of_matches(encodings, encoding)\n",
    "    if all(count == 0 for count in counts.values()):\n",
    "        name = \"Unknown\"\n",
    "    else:\n",
    "        name = max(counts, key =counts.get)\n",
    "    names.append(name)"
   ]
  },
  {
   "cell_type": "code",
   "execution_count": 18,
   "metadata": {},
   "outputs": [
    {
     "data": {
      "text/plain": [
       "-1"
      ]
     },
     "execution_count": 18,
     "metadata": {},
     "output_type": "execute_result"
    }
   ],
   "source": [
    "for rect,name in zip(face_rects(image),names):\n",
    "    x1,y1,x2,y2 = rect.left(),rect.top(),rect.right(),rect.bottom()\n",
    "    cv2.rectangle(image,(x1,y1),(x2,y2),(0,0,255),2)\n",
    "    cv2.putText(image,name,(x1,y1-10),cv2.FONT_HERSHEY_SIMPLEX,0.72,(0,0,255),2)\n",
    "\n",
    "cv2.imshow(\"image\",image)\n",
    "cv2.waitKey(0)"
   ]
  }
 ],
 "metadata": {
  "kernelspec": {
   "display_name": "Python 3.10.4 64-bit",
   "language": "python",
   "name": "python3"
  },
  "language_info": {
   "codemirror_mode": {
    "name": "ipython",
    "version": 3
   },
   "file_extension": ".py",
   "mimetype": "text/x-python",
   "name": "python",
   "nbconvert_exporter": "python",
   "pygments_lexer": "ipython3",
   "version": "3.10.4"
  },
  "orig_nbformat": 4,
  "vscode": {
   "interpreter": {
    "hash": "cd33f47137b00f9a3c223ad7cd7ea8009173bfffa8c9627ff61bae578e5b56e2"
   }
  }
 },
 "nbformat": 4,
 "nbformat_minor": 2
}
