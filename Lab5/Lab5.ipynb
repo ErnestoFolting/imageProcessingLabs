{
 "cells": [
  {
   "cell_type": "code",
   "execution_count": 1,
   "metadata": {},
   "outputs": [
    {
     "name": "stderr",
     "output_type": "stream",
     "text": [
      "c:\\Users\\danil\\AppData\\Local\\Programs\\Python\\Python310\\lib\\site-packages\\tqdm\\auto.py:22: TqdmWarning: IProgress not found. Please update jupyter and ipywidgets. See https://ipywidgets.readthedocs.io/en/stable/user_install.html\n",
      "  from .autonotebook import tqdm as notebook_tqdm\n"
     ]
    },
    {
     "name": "stdout",
     "output_type": "stream",
     "text": [
      "person  :  100.0\n",
      "person  :  99.81\n",
      "person  :  99.82\n",
      "person  :  99.45\n",
      "person  :  99.66\n",
      "car  :  98.67\n",
      "car  :  97.14\n",
      "car  :  99.73\n",
      "car  :  87.11\n",
      "car  :  99.62\n",
      "car  :  56.08\n",
      "car  :  99.47\n",
      "car  :  91.76\n",
      "car  :  99.34\n",
      "car  :  99.36\n",
      "car  :  94.82\n",
      "car  :  73.37\n",
      "car  :  93.71\n",
      "car  :  95.46\n",
      "car  :  97.17\n",
      "truck  :  72.83\n"
     ]
    }
   ],
   "source": [
    "from imageai.Detection import ObjectDetection\n",
    "\n",
    "model_path =\"./models/yolov3.pt\"\n",
    "input_path = \"./input/test_im.jpg\"\n",
    "output_path = \"./output/output.jpg\"\n",
    "\n",
    "\n",
    "detector = ObjectDetection()\n",
    "detector.setModelTypeAsYOLOv3()\n",
    "detector.setModelPath(model_path)\n",
    "detector.loadModel()\n",
    "\n",
    "detections = detector.detectObjectsFromImage(input_image= input_path, output_image_path=output_path)\n",
    "\n",
    "for detection in detections:\n",
    "    print(detection[\"name\"] , \" : \" , detection[\"percentage_probability\"])"
   ]
  }
 ],
 "metadata": {
  "kernelspec": {
   "display_name": "Python 3.10.4 64-bit",
   "language": "python",
   "name": "python3"
  },
  "language_info": {
   "codemirror_mode": {
    "name": "ipython",
    "version": 3
   },
   "file_extension": ".py",
   "mimetype": "text/x-python",
   "name": "python",
   "nbconvert_exporter": "python",
   "pygments_lexer": "ipython3",
   "version": "3.10.4"
  },
  "orig_nbformat": 4,
  "vscode": {
   "interpreter": {
    "hash": "cd33f47137b00f9a3c223ad7cd7ea8009173bfffa8c9627ff61bae578e5b56e2"
   }
  }
 },
 "nbformat": 4,
 "nbformat_minor": 2
}
